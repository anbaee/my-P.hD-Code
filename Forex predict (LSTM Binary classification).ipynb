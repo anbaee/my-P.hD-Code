{
  "nbformat": 4,
  "nbformat_minor": 0,
  "metadata": {
    "colab": {
      "name": "Untitled0.ipynb",
      "provenance": [],
      "collapsed_sections": [],
      "authorship_tag": "ABX9TyM6a6hbWQmSClEfbpyx4Swb",
      "include_colab_link": true
    },
    "kernelspec": {
      "name": "python3",
      "display_name": "Python 3"
    },
    "accelerator": "GPU"
  },
  "cells": [
    {
      "cell_type": "markdown",
      "metadata": {
        "id": "view-in-github",
        "colab_type": "text"
      },
      "source": [
        "<a href=\"https://colab.research.google.com/github/anbaee/my-P.hD-Code/blob/master/Forex%20predict%20(LSTM%20Binary%20classification).ipynb\" target=\"_parent\"><img src=\"https://colab.research.google.com/assets/colab-badge.svg\" alt=\"Open In Colab\"/></a>"
      ]
    },
    {
      "cell_type": "code",
      "metadata": {
        "id": "E2bSelhj7GyW",
        "colab_type": "code",
        "outputId": "d8db9882-27aa-4d46-bea8-2ac134978731",
        "colab": {
          "base_uri": "https://localhost:8080/",
          "height": 34
        }
      },
      "source": [
        "from google.colab import drive\n",
        "import pandas as pd\n",
        "\n",
        "drive.mount('/content/gdrive')\n"
      ],
      "execution_count": 129,
      "outputs": [
        {
          "output_type": "stream",
          "text": [
            "Drive already mounted at /content/gdrive; to attempt to forcibly remount, call drive.mount(\"/content/gdrive\", force_remount=True).\n"
          ],
          "name": "stdout"
        }
      ]
    },
    {
      "cell_type": "code",
      "metadata": {
        "id": "aWFp2LPpY-um",
        "colab_type": "code",
        "colab": {}
      },
      "source": [
        "def preprocess_df(df):\n",
        "    df = df.drop(\"future\", 1)  # don't need this anymore.\n",
        "    \n",
        "    for col in df.columns:  # go through all of the columns\n",
        "        if col != \"target\":  # normalize all ... except for the target itself!\n",
        "            df[col] =[float(e) for e in df[col]]\n",
        "            df[col] = df[col].pct_change()  # pct changefor  \"normalizes\"\n",
        "            df.dropna(inplace=True)  # remove the nas created by pct_change\n",
        "            df[col] = preprocessing.scale(df[col].values)  # scale between 0 and 1.\n",
        "    \n",
        "    df.dropna(inplace=True)  # cleanup again... jic.\n",
        "    sequential_data = []  # this is a list that will CONTAIN the sequences\n",
        "    prev_days = deque(maxlen=SEQ_LEN)  # These will be our actual sequences. They are made with deque, which keeps the maximum length by popping out older values as new ones come in\n",
        "\n",
        "    for i in df.values:  # iterate over the values\n",
        "        prev_days.append([n for n in i[:-1]])  # store all but the target\n",
        "        if len(prev_days) == SEQ_LEN:  # make sure we have 60 sequences!\n",
        "            sequential_data.append([np.array(prev_days), i[-1]])  # append those bad boys!\n",
        "\n",
        "    \n",
        "    random.shuffle(sequential_data)  # shuffle for good measure.\n",
        "    \n",
        "\n",
        "    buys = []  # list that will store our buy sequences and targets\n",
        "    sells = []  # list that will store our sell sequences and targets\n",
        "\n",
        "    for seq, target in sequential_data:  # iterate over the sequential data\n",
        "        if target == 0:  # if it's a \"not buy\"\n",
        "            sells.append([seq, target])  # append to sells list\n",
        "        elif target == 1:  # otherwise if the target is a 1...\n",
        "            buys.append([seq, target])  # it's a buy!\n",
        "\n",
        "    random.shuffle(buys)  # shuffle the buys\n",
        "    random.shuffle(sells)  # shuffle the sells!\n",
        "\n",
        "    lower = min(len(buys), len(sells))  # what's the shorter length?\n",
        "\n",
        "    buys = buys[:lower]  # make sure both lists are only up to the shortest length.\n",
        "    sells = sells[:lower]  # make sure both lists are only up to the shortest length.\n",
        "\n",
        "    sequential_data = buys+sells  # add them together\n",
        "    random.shuffle(sequential_data)  # another shuffle, so the model doesn't get confused with all 1 class then the other.\n",
        "\n",
        "    X = []\n",
        "    y = []\n",
        "\n",
        "    for seq, target in sequential_data:  # going over our new sequential data\n",
        "        X.append(seq)  # X is the sequences\n",
        "        y.append(target)  # y is the targets/labels (buys vs sell/notbuy)\n",
        "\n",
        "\n",
        "    \n",
        "    return np.array(X), y  # return X and y...and make X a numpy array!"
      ],
      "execution_count": 0,
      "outputs": []
    },
    {
      "cell_type": "code",
      "metadata": {
        "id": "3BxYxR9RTrED",
        "colab_type": "code",
        "outputId": "259550bd-30ba-4490-af33-bd8574b870c9",
        "colab": {
          "base_uri": "https://localhost:8080/",
          "height": 323
        }
      },
      "source": [
        "import pandas as pd\n",
        "from collections import deque\n",
        "import random\n",
        "import numpy as np\n",
        "from sklearn import preprocessing\n",
        "\n",
        "SEQ_LEN = 10 # how long of a preceeding sequence to collect for RNN\n",
        "FUTURE_PERIOD_PREDICT = 1 # how far into the future are we trying to predict?\n",
        "RATIO_TO_PREDICT = \"EUR-USD\"\n",
        "\n",
        "\n",
        "def classify(current, future):\n",
        "    if float(future) > float(current):  # if the future price is higher than the current, that's a buy, or a 1\n",
        "        return 1\n",
        "    else:  # otherwise... it's a 0!\n",
        "        return 0\n",
        "\n",
        "\n",
        "filename = 'EURUSDday.csv'\n",
        "dataset ='/content/gdrive/My Drive/market prediction codes/' + filename\n",
        "main_df = pd.read_csv(dataset )  # read in specific file\n",
        "main_df['timestamp'] = main_df['date']+' '+ main_df['time']\n",
        "\n",
        "main_df['timestamp'] = pd.to_datetime(main_df['timestamp'])\n",
        "main_df = main_df.sort_values('timestamp', axis = 0  )\n",
        "main_df = main_df.set_index('timestamp')\n",
        "main_df = main_df.drop('date' ,1)\n",
        "main_df  = main_df.drop('time',1)\n",
        "\n",
        "\n",
        "main_df.fillna(method=\"ffill\", inplace=True)  # if there are gaps in data, use previously known values\n",
        "main_df.dropna(inplace=True)\n",
        "main_df['future'] = main_df['close'].shift(-FUTURE_PERIOD_PREDICT)\n",
        "main_df['target'] = list(map(classify, main_df['close'], main_df['future']))\n",
        "#test and train seprate\n",
        "dates = sorted(main_df.index.values)  # get the dates\n",
        "last_5pct = sorted(main_df.index.values)[-int(0.2*len(dates))]  # get the last 5% of the times\n",
        "\n",
        "validation_main_df = main_df[(main_df.index >= last_5pct)]  # make the validation data where the index is in the last 5%\n",
        "main_df = main_df[(main_df.index < last_5pct)]  # now the main_df is all the data up to the last 5%\n",
        "print(main_df.head())\n",
        "print(main_df.describe())"
      ],
      "execution_count": 178,
      "outputs": [
        {
          "output_type": "stream",
          "text": [
            "               open     high      low    close  volume   future  target\n",
            "timestamp                                                              \n",
            "2012-05-31  1.23658  1.24281  1.23367  1.23649   75292  1.24328       1\n",
            "2012-06-01  1.23650  1.24481  1.22881  1.24328   82401  1.24993       1\n",
            "2012-06-04  1.24161  1.25093  1.23856  1.24993   60992  1.24517       0\n",
            "2012-06-05  1.24992  1.25418  1.24098  1.24517   68668  1.25816       1\n",
            "2012-06-06  1.24518  1.25850  1.24405  1.25816   76616  1.25599       0\n",
            "              open         high  ...       future       target\n",
            "count  1647.000000  1647.000000  ...  1647.000000  1647.000000\n",
            "mean      1.206206     1.210915  ...     1.206159     0.496661\n",
            "std       0.102335     0.101908  ...     0.102320     0.500141\n",
            "min       1.038830     1.041780  ...     1.038820     0.000000\n",
            "25%       1.117625     1.122055  ...     1.117815     0.000000\n",
            "50%       1.181120     1.184850  ...     1.180760     0.000000\n",
            "75%       1.301480     1.307510  ...     1.302015     1.000000\n",
            "max       1.393350     1.399310  ...     1.393350     1.000000\n",
            "\n",
            "[8 rows x 7 columns]\n"
          ],
          "name": "stdout"
        }
      ]
    },
    {
      "cell_type": "code",
      "metadata": {
        "id": "SYM64yx4ZZj7",
        "colab_type": "code",
        "colab": {}
      },
      "source": [
        "\n",
        "train_x, train_y = preprocess_df(main_df)\n",
        "validation_x, validation_y = preprocess_df(validation_main_df)\n"
      ],
      "execution_count": 0,
      "outputs": []
    },
    {
      "cell_type": "code",
      "metadata": {
        "id": "ibJuh0f4d91x",
        "colab_type": "code",
        "outputId": "615e0180-7a84-4172-f309-3d5f3d136e78",
        "colab": {
          "base_uri": "https://localhost:8080/",
          "height": 85
        }
      },
      "source": [
        "print(train_x.shape)\n",
        "print(f\"train data: {len(train_x)} validation: {len(validation_x)}\")\n",
        "print(f\"Dont buys: {train_y.count(0)}, buys: {train_y.count(1)}\")\n",
        "print(f\"VALIDATION Dont buys: {validation_y.count(0)}, buys: {validation_y.count(1)}\")"
      ],
      "execution_count": 180,
      "outputs": [
        {
          "output_type": "stream",
          "text": [
            "(1618, 10, 5)\n",
            "train data: 1618 validation: 378\n",
            "Dont buys: 809, buys: 809\n",
            "VALIDATION Dont buys: 189, buys: 189\n"
          ],
          "name": "stdout"
        }
      ]
    },
    {
      "cell_type": "code",
      "metadata": {
        "id": "fG7FDGPKehFn",
        "colab_type": "code",
        "colab": {}
      },
      "source": [
        "import time\n",
        "\n",
        "EPOCHS = 30  # how many passes through our data\n",
        "BATCH_SIZE = 64  # how many batches? Try smaller batch if you're getting OOM (out of memory) errors."
      ],
      "execution_count": 0,
      "outputs": []
    },
    {
      "cell_type": "code",
      "metadata": {
        "id": "-EYoAdGbelCD",
        "colab_type": "code",
        "colab": {}
      },
      "source": [
        "import tensorflow as tf\n",
        "from tensorflow.keras.models import Sequential\n",
        "from tensorflow.keras.layers import Dense, Dropout, LSTM, LSTM, BatchNormalization"
      ],
      "execution_count": 0,
      "outputs": []
    },
    {
      "cell_type": "code",
      "metadata": {
        "id": "13Lw-lMTeopy",
        "colab_type": "code",
        "colab": {}
      },
      "source": [
        "\n",
        "model = Sequential()\n",
        "model.add(LSTM(128, input_shape=(train_x.shape[1:]), return_sequences=True))\n",
        "model.add(Dropout(0.2))\n",
        "model.add(BatchNormalization())  #normalizes activation outputs, same reason you want to normalize your input data.\n",
        "\n",
        "\n",
        "model.add(LSTM(128))\n",
        "model.add(Dropout(0.2))\n",
        "model.add(BatchNormalization())\n",
        "\n",
        "model.add(Dense(32, activation='relu'))\n",
        "model.add(Dropout(0.2))\n"
      ],
      "execution_count": 0,
      "outputs": []
    },
    {
      "cell_type": "code",
      "metadata": {
        "id": "GizJybfver0q",
        "colab_type": "code",
        "colab": {
          "base_uri": "https://localhost:8080/",
          "height": 425
        },
        "outputId": "62a62b8d-d11e-4b00-8ace-04fa12a2a3d4"
      },
      "source": [
        "opt = tf.keras.optimizers.Adam(lr=0.001, decay=1e-6)\n",
        "\n",
        "# Compile model\n",
        "model.compile(\n",
        "    loss='sparse_categorical_crossentropy',\n",
        "    optimizer=opt,\n",
        "    metrics=['accuracy']\n",
        ")\n",
        "model.summary()\n"
      ],
      "execution_count": 184,
      "outputs": [
        {
          "output_type": "stream",
          "text": [
            "Model: \"sequential_14\"\n",
            "_________________________________________________________________\n",
            "Layer (type)                 Output Shape              Param #   \n",
            "=================================================================\n",
            "lstm_28 (LSTM)               (None, 10, 128)           68608     \n",
            "_________________________________________________________________\n",
            "dropout_42 (Dropout)         (None, 10, 128)           0         \n",
            "_________________________________________________________________\n",
            "batch_normalization_28 (Batc (None, 10, 128)           512       \n",
            "_________________________________________________________________\n",
            "lstm_29 (LSTM)               (None, 128)               131584    \n",
            "_________________________________________________________________\n",
            "dropout_43 (Dropout)         (None, 128)               0         \n",
            "_________________________________________________________________\n",
            "batch_normalization_29 (Batc (None, 128)               512       \n",
            "_________________________________________________________________\n",
            "dense_17 (Dense)             (None, 32)                4128      \n",
            "_________________________________________________________________\n",
            "dropout_44 (Dropout)         (None, 32)                0         \n",
            "=================================================================\n",
            "Total params: 205,344\n",
            "Trainable params: 204,832\n",
            "Non-trainable params: 512\n",
            "_________________________________________________________________\n"
          ],
          "name": "stdout"
        }
      ]
    },
    {
      "cell_type": "code",
      "metadata": {
        "id": "qSeaOiz0eu7R",
        "colab_type": "code",
        "outputId": "923c560f-c8d3-4699-cf88-59f715cacb3a",
        "colab": {
          "base_uri": "https://localhost:8080/",
          "height": 1000
        }
      },
      "source": [
        "history = model.fit(\n",
        "    train_x, np.array(train_y),\n",
        "    batch_size=BATCH_SIZE,\n",
        "    epochs=EPOCHS,\n",
        "    validation_data=(validation_x, np.array(validation_y)))"
      ],
      "execution_count": 185,
      "outputs": [
        {
          "output_type": "stream",
          "text": [
            "Epoch 1/30\n",
            "26/26 [==============================] - 1s 31ms/step - loss: 10.4713 - accuracy: 0.2361 - val_loss: 2.1573 - val_accuracy: 0.4206\n",
            "Epoch 2/30\n",
            "26/26 [==============================] - 0s 7ms/step - loss: 9.5809 - accuracy: 0.3368 - val_loss: 2.6906 - val_accuracy: 0.4762\n",
            "Epoch 3/30\n",
            "26/26 [==============================] - 0s 8ms/step - loss: 8.6737 - accuracy: 0.3375 - val_loss: 2.6903 - val_accuracy: 0.4762\n",
            "Epoch 4/30\n",
            "26/26 [==============================] - 0s 7ms/step - loss: 6.3318 - accuracy: 0.3405 - val_loss: 2.4569 - val_accuracy: 0.4788\n",
            "Epoch 5/30\n",
            "26/26 [==============================] - 0s 7ms/step - loss: 4.7120 - accuracy: 0.3906 - val_loss: 2.9890 - val_accuracy: 0.4947\n",
            "Epoch 6/30\n",
            "26/26 [==============================] - 0s 8ms/step - loss: 4.4764 - accuracy: 0.4061 - val_loss: 3.0832 - val_accuracy: 0.5000\n",
            "Epoch 7/30\n",
            "26/26 [==============================] - 0s 7ms/step - loss: 4.2458 - accuracy: 0.4221 - val_loss: 3.0213 - val_accuracy: 0.4735\n",
            "Epoch 8/30\n",
            "26/26 [==============================] - 0s 7ms/step - loss: 4.3923 - accuracy: 0.4277 - val_loss: 3.4435 - val_accuracy: 0.4418\n",
            "Epoch 9/30\n",
            "26/26 [==============================] - 0s 8ms/step - loss: 4.0995 - accuracy: 0.4462 - val_loss: 3.1916 - val_accuracy: 0.4630\n",
            "Epoch 10/30\n",
            "26/26 [==============================] - 0s 7ms/step - loss: 4.0951 - accuracy: 0.4475 - val_loss: 3.3601 - val_accuracy: 0.4683\n",
            "Epoch 11/30\n",
            "26/26 [==============================] - 0s 8ms/step - loss: 4.0303 - accuracy: 0.4561 - val_loss: 3.4898 - val_accuracy: 0.4815\n",
            "Epoch 12/30\n",
            "26/26 [==============================] - 0s 7ms/step - loss: 4.1805 - accuracy: 0.4592 - val_loss: 3.3832 - val_accuracy: 0.4894\n",
            "Epoch 13/30\n",
            "26/26 [==============================] - 0s 7ms/step - loss: 5.7498 - accuracy: 0.3993 - val_loss: 3.4791 - val_accuracy: 0.4947\n",
            "Epoch 14/30\n",
            "26/26 [==============================] - 0s 8ms/step - loss: 4.0968 - accuracy: 0.4574 - val_loss: 3.4273 - val_accuracy: 0.5026\n",
            "Epoch 15/30\n",
            "26/26 [==============================] - 0s 7ms/step - loss: 4.1026 - accuracy: 0.4543 - val_loss: 3.4721 - val_accuracy: 0.4921\n",
            "Epoch 16/30\n",
            "26/26 [==============================] - 0s 8ms/step - loss: 4.1162 - accuracy: 0.4703 - val_loss: 3.5764 - val_accuracy: 0.4841\n",
            "Epoch 17/30\n",
            "26/26 [==============================] - 0s 7ms/step - loss: 4.1113 - accuracy: 0.4747 - val_loss: 3.5009 - val_accuracy: 0.5026\n",
            "Epoch 18/30\n",
            "26/26 [==============================] - 0s 8ms/step - loss: 4.1195 - accuracy: 0.4604 - val_loss: 3.4572 - val_accuracy: 0.4868\n",
            "Epoch 19/30\n",
            "26/26 [==============================] - 0s 7ms/step - loss: 3.9659 - accuracy: 0.4722 - val_loss: 3.4644 - val_accuracy: 0.4894\n",
            "Epoch 20/30\n",
            "26/26 [==============================] - 0s 7ms/step - loss: 3.9177 - accuracy: 0.4734 - val_loss: 3.4808 - val_accuracy: 0.4974\n",
            "Epoch 21/30\n",
            "26/26 [==============================] - 0s 8ms/step - loss: 3.9356 - accuracy: 0.4759 - val_loss: 3.4783 - val_accuracy: 0.4921\n",
            "Epoch 22/30\n",
            "26/26 [==============================] - 0s 7ms/step - loss: 3.9068 - accuracy: 0.4796 - val_loss: 3.4014 - val_accuracy: 0.4947\n",
            "Epoch 23/30\n",
            "26/26 [==============================] - 0s 8ms/step - loss: 3.8657 - accuracy: 0.4864 - val_loss: 3.4385 - val_accuracy: 0.4894\n",
            "Epoch 24/30\n",
            "26/26 [==============================] - 0s 7ms/step - loss: 4.0364 - accuracy: 0.4778 - val_loss: 3.4204 - val_accuracy: 0.4894\n",
            "Epoch 25/30\n",
            "26/26 [==============================] - 0s 7ms/step - loss: 3.8094 - accuracy: 0.4876 - val_loss: 3.4460 - val_accuracy: 0.4868\n",
            "Epoch 26/30\n",
            "26/26 [==============================] - 0s 8ms/step - loss: 3.7731 - accuracy: 0.4913 - val_loss: 3.4087 - val_accuracy: 0.4841\n",
            "Epoch 27/30\n",
            "26/26 [==============================] - 0s 7ms/step - loss: 3.7856 - accuracy: 0.4932 - val_loss: 3.4047 - val_accuracy: 0.5000\n",
            "Epoch 28/30\n",
            "26/26 [==============================] - 0s 8ms/step - loss: 3.9630 - accuracy: 0.4833 - val_loss: 3.4705 - val_accuracy: 0.4762\n",
            "Epoch 29/30\n",
            "26/26 [==============================] - 0s 7ms/step - loss: 4.0426 - accuracy: 0.4827 - val_loss: 3.5486 - val_accuracy: 0.4841\n",
            "Epoch 30/30\n",
            "26/26 [==============================] - 0s 8ms/step - loss: 4.0173 - accuracy: 0.4802 - val_loss: 3.5338 - val_accuracy: 0.4868\n"
          ],
          "name": "stdout"
        }
      ]
    },
    {
      "cell_type": "code",
      "metadata": {
        "id": "aveLkmtafCNf",
        "colab_type": "code",
        "outputId": "00174ea3-4916-4f3f-f2ec-41d3158b5642",
        "colab": {
          "base_uri": "https://localhost:8080/",
          "height": 51
        }
      },
      "source": [
        "score = model.evaluate(validation_x, np.array(validation_y), verbose=0)\n",
        "print('Test loss:', score[0])\n",
        "print('Test accuracy:', score[1])"
      ],
      "execution_count": 186,
      "outputs": [
        {
          "output_type": "stream",
          "text": [
            "Test loss: 3.5337722301483154\n",
            "Test accuracy: 0.48677247762680054\n"
          ],
          "name": "stdout"
        }
      ]
    },
    {
      "cell_type": "code",
      "metadata": {
        "id": "OYK9qXOUgd4A",
        "colab_type": "code",
        "outputId": "597d1e3f-cc06-4c7f-eb98-98cff802450a",
        "colab": {
          "base_uri": "https://localhost:8080/",
          "height": 295
        }
      },
      "source": [
        "from matplotlib import pyplot as plt\n",
        "plt.plot(history.history['accuracy'])\n",
        "plt.plot(history.history['val_accuracy'])\n",
        "plt.title('model accuracy')\n",
        "plt.ylabel('accuracy')\n",
        "plt.xlabel('epoch')\n",
        "plt.legend(['train', 'val'], loc='upper left')\n",
        "plt.show()"
      ],
      "execution_count": 187,
      "outputs": [
        {
          "output_type": "display_data",
          "data": {
            "image/png": "[encoded data removed]",
            "text/plain": [
              "<Figure size 432x288 with 1 Axes>"
            ]
          },
          "metadata": {
            "tags": [],
            "needs_background": "light"
          }
        }
      ]
    },
    {
      "cell_type": "code",
      "metadata": {
        "id": "60uyAwOMlnn2",
        "colab_type": "code",
        "outputId": "60b069e8-7f8c-4241-e5e8-798d5c91bc2d",
        "colab": {
          "base_uri": "https://localhost:8080/",
          "height": 295
        }
      },
      "source": [
        "from matplotlib import pyplot as plt\n",
        "plt.plot(history.history['loss'])\n",
        "plt.plot(history.history['val_loss'])\n",
        "plt.title('model loss')\n",
        "plt.ylabel('loss')\n",
        "plt.xlabel('epoch')\n",
        "plt.legend(['train', 'val'], loc='upper left')\n",
        "plt.show()"
      ],
      "execution_count": 176,
      "outputs": [
        {
          "output_type": "display_data",
          "data": {
            "image/png": "[encoded data removed]",
            "text/plain": [
              "<Figure size 432x288 with 1 Axes>"
            ]
          },
          "metadata": {
            "tags": [],
            "needs_background": "light"
          }
        }
      ]
    }
  ]
}